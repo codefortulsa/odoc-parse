{
 "cells": [
  {
   "cell_type": "code",
   "execution_count": 2,
   "metadata": {},
   "outputs": [
    {
     "data": {
      "text/plain": [
       "131072"
      ]
     },
     "execution_count": 2,
     "metadata": {},
     "output_type": "execute_result"
    }
   ],
   "source": [
    "import csv\n",
    "import sys\n",
    "import pandas as pd\n",
    "\n",
    "csv.field_size_limit(sys.maxsize)"
   ]
  },
  {
   "cell_type": "code",
   "execution_count": 3,
   "metadata": {},
   "outputs": [],
   "source": [
    "from datetime import datetime\n",
    "\n",
    "def make_date (myDate):\n",
    "    year = myDate.split(\"-\")\n",
    "    if int(year[0]) < 2261:\n",
    "        dt = datetime.strptime(myDate, \"%Y-%m-%d 00:00:00\")\n",
    "        return dt\n",
    "    else:\n",
    "        print(\"year too big for Pandas\", year[0])\n",
    "        raise ValueError('Invalid date')\n"
   ]
  },
  {
   "cell_type": "code",
   "execution_count": 4,
   "metadata": {},
   "outputs": [
    {
     "ename": "FileNotFoundError",
     "evalue": "[Errno 2] No such file or directory: 'Offender.csv'",
     "output_type": "error",
     "traceback": [
      "\u001b[0;31m---------------------------------------------------------------------------\u001b[0m",
      "\u001b[0;31mFileNotFoundError\u001b[0m                         Traceback (most recent call last)",
      "\u001b[0;32m<ipython-input-4-360d6cef7d0f>\u001b[0m in \u001b[0;36m<module>\u001b[0;34m\u001b[0m\n\u001b[1;32m      3\u001b[0m \u001b[0mmyRange\u001b[0m \u001b[0;34m=\u001b[0m \u001b[0;34m[\u001b[0m\u001b[0;36m11\u001b[0m\u001b[0;34m,\u001b[0m\u001b[0;36m12\u001b[0m\u001b[0;34m]\u001b[0m\u001b[0;34m\u001b[0m\u001b[0;34m\u001b[0m\u001b[0m\n\u001b[1;32m      4\u001b[0m \u001b[0;34m\u001b[0m\u001b[0m\n\u001b[0;32m----> 5\u001b[0;31m \u001b[0;32mwith\u001b[0m \u001b[0mopen\u001b[0m\u001b[0;34m(\u001b[0m\u001b[0;34m'Offender.csv'\u001b[0m\u001b[0;34m,\u001b[0m \u001b[0mnewline\u001b[0m\u001b[0;34m=\u001b[0m\u001b[0;34m''\u001b[0m\u001b[0;34m)\u001b[0m \u001b[0;32mas\u001b[0m \u001b[0mcsvfile\u001b[0m\u001b[0;34m:\u001b[0m\u001b[0;34m\u001b[0m\u001b[0;34m\u001b[0m\u001b[0m\n\u001b[0m\u001b[1;32m      6\u001b[0m     \u001b[0moffender_reader\u001b[0m \u001b[0;34m=\u001b[0m \u001b[0mcsv\u001b[0m\u001b[0;34m.\u001b[0m\u001b[0mreader\u001b[0m\u001b[0;34m(\u001b[0m\u001b[0mcsvfile\u001b[0m\u001b[0;34m,\u001b[0m \u001b[0mdelimiter\u001b[0m\u001b[0;34m=\u001b[0m\u001b[0;34m','\u001b[0m\u001b[0;34m)\u001b[0m\u001b[0;34m\u001b[0m\u001b[0;34m\u001b[0m\u001b[0m\n\u001b[1;32m      7\u001b[0m     \u001b[0;32mfor\u001b[0m \u001b[0mrow\u001b[0m \u001b[0;32min\u001b[0m \u001b[0moffender_reader\u001b[0m\u001b[0;34m:\u001b[0m\u001b[0;34m\u001b[0m\u001b[0;34m\u001b[0m\u001b[0m\n",
      "\u001b[0;31mFileNotFoundError\u001b[0m: [Errno 2] No such file or directory: 'Offender.csv'"
     ]
    }
   ],
   "source": [
    "offender_database = []\n",
    "first_row = 0\n",
    "myRange = [11,12]\n",
    "\n",
    "with open('Offender.csv', newline='') as csvfile:\n",
    "    offender_reader = csv.reader(csvfile, delimiter=',')\n",
    "    for row in offender_reader:\n",
    "        if first_row == 0:\n",
    "            print(row)\n",
    "            first_row = row\n",
    "            \n",
    "        else:\n",
    "            if len(row) > 16:\n",
    "                row[13] = row[13] + row[14] + row[15]\n",
    "                row[14] = row[16]\n",
    "                row.pop() # remove from row array\n",
    "                row.pop() # remove from row array\n",
    "            elif len(row) > 15:\n",
    "                row[13] = row[13] + row[14]\n",
    "                row[14] = row[15]\n",
    "                row.pop() # remove from row array\n",
    "            try:\n",
    "                for i in myRange:\n",
    "                    row[i] = make_date(row[i])\n",
    "            except:\n",
    "                continue\n",
    "            offender_database.append(row)\n",
    "\n",
    "offenderDS = pd.DataFrame(data=offender_database, columns=first_row)\n",
    "offenderDS['ReceptionDate'] = pd.to_datetime(offenderDS['ReceptionDate'])\n",
    "offenderDS.ReceptionDate=offenderDS.ReceptionDate.dt.strftime('%Y')"
   ]
  },
  {
   "cell_type": "code",
   "execution_count": null,
   "metadata": {},
   "outputs": [],
   "source": [
    "#pt = pd.pivot_table(offenderDS, values=[\"DocNum\"], index=[\"Status\"], aggfunc='count', columns=['ReceptionDate'])\n",
    "pt = pd.pivot_table(offenderDS, values=[\"DocNum\"], index=[\"ReceptionDate\"], aggfunc=\"count\", columns=[\"Status\"])\n",
    "pt.plot(kind=\"line\",).legend()"
   ]
  },
  {
   "cell_type": "code",
   "execution_count": null,
   "metadata": {},
   "outputs": [],
   "source": [
    "#before you open these files, remove the errant quote on line 191780\n",
    "\n",
    "alias_database = []\n",
    "first_row = 0 \n",
    "\n",
    "with open('OffenderAlias.csv', encoding = \"ISO-8859-1\") as csvfile:\n",
    "    offender_reader = csv.reader(csvfile, delimiter=',')\n",
    "    for row in offender_reader:\n",
    "        if first_row == 0:\n",
    "            print(row)\n",
    "            first_row = row\n",
    "        else:\n",
    "            if row[2] == \"\":\n",
    "                continue # skip lines with no last name\n",
    "            if len(row) > 7:\n",
    "                print(row)\n",
    "                continue # skip these lines or you can edit by hand\n",
    "            try:\n",
    "                row[6] = make_date(row[6])\n",
    "            except:\n",
    "                continue\n",
    "            alias_database.append(row)\n",
    "\n",
    "aliasDS = pd.DataFrame(data=alias_database, columns=first_row)\n",
    "aliasDS['DOB'] = pd.to_datetime(aliasDS['DOB'])\n",
    "aliasDS.DOB=aliasDS.DOB.dt.strftime('%Y')"
   ]
  },
  {
   "cell_type": "code",
   "execution_count": null,
   "metadata": {},
   "outputs": [],
   "source": [
    "pt = pd.pivot_table(aliasDS, values=[\"DOCNum\"], index=[\"DOB\"], aggfunc=\"count\")\n",
    "pt.plot(kind=\"line\",).legend()"
   ]
  },
  {
   "cell_type": "code",
   "execution_count": null,
   "metadata": {},
   "outputs": [],
   "source": [
    "exit_database = []\n",
    "first_row = 0\n",
    "\n",
    "with open('OffenderExit.csv') as csvfile:\n",
    "    offender_reader = csv.reader(csvfile, delimiter=',')\n",
    "    for row in offender_reader:\n",
    "        if first_row == 0:\n",
    "            print(row)\n",
    "            first_row = row\n",
    "        else:\n",
    "            if len(row) > 3:\n",
    "                row[2] = row[2] + row[3]\n",
    "                row.pop()\n",
    "            elif len(row) > 4:\n",
    "                print(row)\n",
    "            exit_database.append(row)\n",
    "\n",
    "exitDS = pd.DataFrame(data=exit_database, columns=first_row)\n",
    "exitDS['ExitDate'] = pd.to_datetime(exitDS['ExitDate'])\n",
    "exitDS.ExitDate=exitDS.ExitDate.dt.strftime('%Y')"
   ]
  },
  {
   "cell_type": "code",
   "execution_count": null,
   "metadata": {},
   "outputs": [],
   "source": [
    "pt = pd.pivot_table(exitDS, values=[\"DOCNum\"], index=[\"ExitDate\"], aggfunc=\"count\")\n",
    "pt.plot(kind=\"line\",).legend()"
   ]
  },
  {
   "cell_type": "code",
   "execution_count": null,
   "metadata": {},
   "outputs": [],
   "source": [
    "reception_database = []\n",
    "first_row = 0\n",
    "\n",
    "with open('OffenderReception.csv') as csvfile:\n",
    "    offender_reader = csv.reader(csvfile, delimiter=',')\n",
    "    for row in offender_reader:\n",
    "        if first_row == 0:\n",
    "            print(row)\n",
    "            first_row = row\n",
    "        else:\n",
    "            if len(row) > 5:\n",
    "                row[2] = row[2] + row[3] + row[4]\n",
    "                row[3] = row[5]\n",
    "                row.pop()\n",
    "                row.pop()\n",
    "            elif len(row) > 4:\n",
    "                row[2] = row[2] + row[3]\n",
    "                row[3] = row[4]\n",
    "                row.pop()\n",
    "            reception_database.append(row)\n",
    "\n",
    "recepDS = pd.DataFrame(data=reception_database, columns=first_row)\n",
    "recepDS['MovementDate'] = pd.to_datetime(recepDS['MovementDate'])\n",
    "recepDS.MovementDate=recepDS.MovementDate.dt.strftime('%Y')"
   ]
  },
  {
   "cell_type": "code",
   "execution_count": null,
   "metadata": {},
   "outputs": [],
   "source": [
    "pt = pd.pivot_table(recepDS, values=[\"DocNum\"], index=[\"MovementDate\"], aggfunc=\"count\")\n",
    "pt.plot(kind=\"line\",).legend()"
   ]
  },
  {
   "cell_type": "code",
   "execution_count": null,
   "metadata": {},
   "outputs": [],
   "source": [
    "sentence_database = []\n",
    "first_row = 0\n",
    "myRange = [5, 15, 16]\n",
    "\n",
    "with open('OffenderSentence.csv', encoding = \"ISO-8859-1\") as csvfile:\n",
    "    offender_reader = csv.reader(csvfile, delimiter=',')\n",
    "    for row in offender_reader:\n",
    "        if first_row == 0:\n",
    "            print(row)\n",
    "            first_row = row\n",
    "        else:\n",
    "            try:\n",
    "                for i in myRange:\n",
    "                    #print(i, row[i])\n",
    "                    row[i] = make_date(row[i])\n",
    "            except:\n",
    "                continue\n",
    "            sentence_database.append(row)"
   ]
  },
  {
   "cell_type": "code",
   "execution_count": null,
   "metadata": {
    "scrolled": true
   },
   "outputs": [],
   "source": [
    "sentenceDS = pd.DataFrame(data=sentence_database, columns=first_row)\n",
    "sentenceDS['ConvictDate'] = pd.to_datetime(sentenceDS['ConvictDate'])\n",
    "sentenceDS['StartDate'] = pd.to_datetime(sentenceDS['StartDate'])\n",
    "sentenceDS['EndDate'] = pd.to_datetime(sentenceDS['EndDate'])\n",
    "sentenceDS.ConvictDate=sentenceDS.ConvictDate.dt.strftime('%Y')"
   ]
  },
  {
   "cell_type": "code",
   "execution_count": null,
   "metadata": {
    "scrolled": true
   },
   "outputs": [],
   "source": [
    "pt = pd.pivot_table(sentenceDS, values=[\"DOCNum\"], index=[\"ConvictDate\"], aggfunc=\"count\")\n",
    "pt.plot(kind=\"line\",).legend()"
   ]
  },
  {
   "cell_type": "code",
   "execution_count": null,
   "metadata": {},
   "outputs": [],
   "source": []
  }
 ],
 "metadata": {
  "kernelspec": {
   "display_name": "Python 3",
   "language": "python",
   "name": "python3"
  },
  "language_info": {
   "codemirror_mode": {
    "name": "ipython",
    "version": 3
   },
   "file_extension": ".py",
   "mimetype": "text/x-python",
   "name": "python",
   "nbconvert_exporter": "python",
   "pygments_lexer": "ipython3",
   "version": "3.6.7"
  }
 },
 "nbformat": 4,
 "nbformat_minor": 2
}
